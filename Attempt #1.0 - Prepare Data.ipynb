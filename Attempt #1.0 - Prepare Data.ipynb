{
 "cells": [
  {
   "cell_type": "code",
   "execution_count": 1,
   "metadata": {},
   "outputs": [
    {
     "name": "stdout",
     "output_type": "stream",
     "text": [
      "INFO:tensorflow:Enabling eager execution\n",
      "INFO:tensorflow:Enabling v2 tensorshape\n",
      "INFO:tensorflow:Enabling resource variables\n",
      "INFO:tensorflow:Enabling tensor equality\n",
      "INFO:tensorflow:Enabling control flow v2\n"
     ]
    }
   ],
   "source": [
    "from multiprocessing.pool import ThreadPool\n",
    "import h5py\n",
    "import pandas as pd\n",
    "import numpy as np\n",
    "from paiutils import audio"
   ]
  },
  {
   "cell_type": "code",
   "execution_count": 2,
   "metadata": {},
   "outputs": [
    {
     "data": {
      "text/plain": [
       "(1216482, 63458)"
      ]
     },
     "execution_count": 2,
     "metadata": {},
     "output_type": "execute_result"
    }
   ],
   "source": [
    "data = pd.read_csv('D:\\\\cv-corpus-7.0-2021-07-21\\\\validated.tsv', delimiter='\\t')\n",
    "data = data[data['up_votes'] > data['down_votes'] * 2]\n",
    "len(data), len(data['client_id'].unique())"
   ]
  },
  {
   "cell_type": "code",
   "execution_count": 3,
   "metadata": {},
   "outputs": [
    {
     "name": "stdout",
     "output_type": "stream",
     "text": [
      "671940\n"
     ]
    },
    {
     "data": {
      "text/plain": [
       "(501224, 33141, 11125)"
      ]
     },
     "execution_count": 3,
     "metadata": {},
     "output_type": "execute_result"
    }
   ],
   "source": [
    "print(len(data['sentence'].unique()))\n",
    "counts = data.groupby('sentence')['path'].count()\n",
    "data = data[data['sentence'].isin(counts[10 <= counts].index)]\n",
    "len(data), len(data['client_id'].unique()), len(data['sentence'].unique())"
   ]
  },
  {
   "cell_type": "code",
   "execution_count": 4,
   "metadata": {},
   "outputs": [
    {
     "data": {
      "text/plain": [
       "(414383, 9907)"
      ]
     },
     "execution_count": 4,
     "metadata": {},
     "output_type": "execute_result"
    }
   ],
   "source": [
    "counts = data.groupby('client_id')['path'].count()\n",
    "data = data[data['client_id'].isin(counts[10 <= counts].index)]\n",
    "len(data), len(data['client_id'].unique())"
   ]
  },
  {
   "cell_type": "code",
   "execution_count": 5,
   "metadata": {},
   "outputs": [
    {
     "data": {
      "text/plain": [
       "(305091, 9907)"
      ]
     },
     "execution_count": 5,
     "metadata": {},
     "output_type": "execute_result"
    }
   ],
   "source": [
    "data2 = data[data['client_id'].isin(counts[100 < counts].index)]\n",
    "data = data.drop(data2[~data2.index.isin(data2.groupby('client_id').sample(100).index)].index)\n",
    "len(data), len(data['client_id'].unique())"
   ]
  },
  {
   "cell_type": "code",
   "execution_count": 6,
   "metadata": {},
   "outputs": [
    {
     "name": "stdout",
     "output_type": "stream",
     "text": [
      "11125\n"
     ]
    },
    {
     "data": {
      "text/plain": [
       "(294250, 9892, 9577)"
      ]
     },
     "execution_count": 6,
     "metadata": {},
     "output_type": "execute_result"
    }
   ],
   "source": [
    "print(len(data['sentence'].unique()))\n",
    "counts = data.groupby('sentence')['path'].count()\n",
    "data = data[data['sentence'].isin(counts[10 <= counts].index)]\n",
    "len(data), len(data['client_id'].unique()), len(data['sentence'].unique())"
   ]
  },
  {
   "cell_type": "code",
   "execution_count": 7,
   "metadata": {},
   "outputs": [],
   "source": [
    "data.to_csv('D:\\\\data.tsv', sep='\\t')"
   ]
  },
  {
   "cell_type": "code",
   "execution_count": 8,
   "metadata": {},
   "outputs": [],
   "source": [
    "sample_rate = 16000\n",
    "\n",
    "def process(path):\n",
    "    global sample_rate\n",
    "\n",
    "    x, sr, at = audio.load(f'D:\\\\cv-corpus-7.0-2021-07-21\\\\clips\\\\{path}', rate=sample_rate)\n",
    "    path = path.split('.')[0] + '.wav'\n",
    "    x = audio.vad_trim_sides(x, sr, .03, 3)\n",
    "\n",
    "    if int(len(x) / 1.333) - sample_rate // 4 > len(x):\n",
    "        while audio.calc_rms(x[:int(len(x) / 1.333)]) > audio.calc_rms(x[int(len(x) / 1.333):-sample_rate // 4]) * 10:\n",
    "            x = x[:int(len(x) / 1.166)]\n",
    "        while audio.calc_rms(x[:int(len(x) * .25)]) * 10 < audio.calc_rms(x[int(len(x) * .25):]):\n",
    "            x = x[int(len(x) * .142):]\n",
    "\n",
    "    if audio.calc_duration(x, sr) > 10:\n",
    "        x = audio.vad_trim_all(x, sr, .03, 1)\n",
    "        if audio.calc_duration(x, sr) > 10:\n",
    "            x = audio.set_duration(x, sr, 10)\n",
    "    audio.save(f'D:\\\\cv_data\\\\{path}', x, sr)\n",
    "\n",
    "    return True\n",
    "\n",
    "with ThreadPool(50) as p:\n",
    "    p.map(process, data['path'])"
   ]
  }
 ],
 "metadata": {
  "kernelspec": {
   "display_name": "Python 3",
   "language": "python",
   "name": "python3"
  },
  "language_info": {
   "codemirror_mode": {
    "name": "ipython",
    "version": 3
   },
   "file_extension": ".py",
   "mimetype": "text/x-python",
   "name": "python",
   "nbconvert_exporter": "python",
   "pygments_lexer": "ipython3",
   "version": "3.8.5"
  }
 },
 "nbformat": 4,
 "nbformat_minor": 4
}
